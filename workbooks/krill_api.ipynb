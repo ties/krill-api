{
 "cells": [
  {
   "cell_type": "code",
   "execution_count": 1,
   "id": "70b96a9d-cc94-409e-8d2a-5519f1e82aec",
   "metadata": {},
   "outputs": [],
   "source": [
    "import logging\n",
    "import os\n",
    "import sys\n",
    "\n",
    "# Add working dir to path\n",
    "sys.path.insert(0,os.environ['PWD'])\n",
    "\n",
    "logging.basicConfig()\n",
    "logging.getLogger('matplotlib').setLevel(logging.ERROR)\n",
    "logging.getLogger().setLevel(logging.DEBUG)\n",
    "\n",
    "LOG = logging.getLogger(__name__)"
   ]
  },
  {
   "cell_type": "code",
   "execution_count": 2,
   "id": "9a1334dc-aa9a-46e5-9d4d-36172c9cfa56",
   "metadata": {},
   "outputs": [],
   "source": [
    "import itertools\n",
    "import hashlib\n",
    "import logging\n",
    "import os\n",
    "import ssl\n",
    "import time\n",
    "\n",
    "\n",
    "import aiohttp\n",
    "import asyncio\n",
    "\n",
    "from contextlib import asynccontextmanager\n",
    "\n",
    "from krill_api import KrillApiClient\n",
    "from krill_api.models import KrillApiError"
   ]
  },
  {
   "cell_type": "code",
   "execution_count": 3,
   "id": "9c36ad54-f741-4770-8ced-b2b9bb2c2802",
   "metadata": {},
   "outputs": [],
   "source": [
    "TOKEN = os.environ['KRILL_TOKEN']\n",
    "KRILL_URL = os.environ['KRILL_URL']\n",
    "KRILL_CERT_PATH = os.environ['KRILL_CERT_PATH']\n",
    "\n",
    "# Dump the certificate in DER format like\n",
    "# > openssl s_client -showcerts \\\n",
    "#     -servername krill.host \\\n",
    "#     -connect krill.host:3000 2>/dev/null | openssl x509 -inform pem -outform DER -out {KRILL_CERT_PATH}.der\n",
    "#\n",
    "\n",
    "\n",
    "with open(KRILL_CERT_PATH, 'rb') as f:\n",
    "    digest = hashlib.sha256(f.read()).digest()\n",
    "    \n",
    "logging.basicConfig()\n",
    "LOG = logging.getLogger(__name__)"
   ]
  },
  {
   "cell_type": "code",
   "execution_count": 4,
   "id": "411b328e-fe76-4495-bce1-06a5d6199881",
   "metadata": {},
   "outputs": [
    {
     "name": "stdout",
     "output_type": "stream",
     "text": [
      "{'version': '0.12.0', 'started': 1670330281}\n"
     ]
    }
   ],
   "source": [
    "async with aiohttp.ClientSession(headers={'Authorization': f\"Bearer {TOKEN}\", \"Accept\": \"application/json\"}) as session:\n",
    "    async with session.get(KRILL_URL + \"/stats/info\", ssl=aiohttp.Fingerprint(digest)) as r:\n",
    "        json_body = await r.json()\n",
    "        print(json_body)"
   ]
  },
  {
   "cell_type": "code",
   "execution_count": 5,
   "id": "c4999e27-ea7b-41f5-b1a0-58489d52d6d5",
   "metadata": {},
   "outputs": [
    {
     "name": "stdout",
     "output_type": "stream",
     "text": [
      "KrillStatusInfo(version='0.12.0', started=1670330281)\n"
     ]
    }
   ],
   "source": [
    "async with KrillApiClient(KRILL_URL, TOKEN, aiohttp.Fingerprint(digest)) as client:\n",
    "    print(await client.info())\n"
   ]
  },
  {
   "cell_type": "code",
   "execution_count": 6,
   "id": "92788e41-767a-4265-8c44-70cf1567e965",
   "metadata": {},
   "outputs": [
    {
     "name": "stderr",
     "output_type": "stream",
     "text": [
      "INFO:__main__:Loaded a list of 274 CAs in 0.404s. Loaded 274 CA parent details in 8.257s\n"
     ]
    }
   ],
   "source": [
    "\"\"\"\n",
    "Get the status of all krill CAs\n",
    "\"\"\"\n",
    "async with KrillApiClient(KRILL_URL, TOKEN, aiohttp.Fingerprint(digest)) as client:\n",
    "    t0 = time.time()\n",
    "\n",
    "    res = await client.list()\n",
    "    \n",
    "    t1 = time.time()\n",
    "    \n",
    "    status_lists = await asyncio.gather(*[\n",
    "        client.ca_parent_status(r.handle)\n",
    "        for r in res\n",
    "    ])\n",
    "    \n",
    "    t2 = time.time()\n",
    "    statuses = list(itertools.chain.from_iterable(status_lists))\n",
    "    \n",
    "LOG.info(f\"Loaded a list of %d CAs in %.3fs. Loaded %d CA parent details in %.3fs\", len(res), t1-t0, len(status_lists), t2-t1)"
   ]
  },
  {
   "cell_type": "code",
   "execution_count": 7,
   "id": "641d82d5-63c5-4804-b956-7928d1c371a1",
   "metadata": {},
   "outputs": [],
   "source": [
    "\"\"\"Bulk sync the CAs\"\"\"\n",
    "async with KrillApiClient(KRILL_URL, TOKEN, aiohttp.Fingerprint(digest)) as client:\n",
    "    await client.bulk_parent_sync()\n",
    "    await client.bulk_repo_sync()"
   ]
  },
  {
   "cell_type": "code",
   "execution_count": 10,
   "id": "4eec3e93-86ae-4900-b16b-4fbc6902e6cc",
   "metadata": {},
   "outputs": [
    {
     "name": "stderr",
     "output_type": "stream",
     "text": [
      "INFO:__main__:[KrillResourceClass(class_name='DEFAULT', not_after='2023-07-01T00:00:00Z', issued_certs=[KrillIssuedCert[uri=rsync://rpki.prepdev.ripe.net/repository/DEFAULT/3IGzTi_rcHQQ1IW5juXWFPE7lek.cer, req_limit={}, cert='MIIGjTCC...pf9O2w==']], signing_cert=KrillIssuedCert[uri=rsync://rpki.prepdev.ripe.net/repository/aca/nShI3Pcy-TYPQxjVBUUT7N6lIS8.cer, req_limit=None, cert='MIJ1BjCC...dN7evQ=='], resource_set=KrillResources(asn='AS33970', ipv4='77.243.176.0/20, 83.143.240.0/21, 84.39.112.0/21, 89.238.128.0/18, 89.249.64.0/20, 91.102.64.0/21, 91.207.56.0/23, 91.232.150.0/23, 176.10.80.0/21, 185.9.16.0/22, 185.93.180.0/22, 185.94.188.0-185.94.195.255, 185.104.184.0/22, 193.27.64.0/23, 193.164.128.0/24, 193.189.74.0/23, 194.79.28.0/22, 194.187.248.0/22, 195.8.196.0/23, 195.12.48.0/22, 195.242.212.0/22, 217.64.112.0/20, 217.151.96.0/20', ipv6='2001:ac8::/32, 2a01:300::/29, 2a02:40::/32, 2a03:34c0::/32'))]\n",
      "INFO:__main__:[KrillResourceClass(class_name='DEFAULT', not_after='2023-07-01T00:00:00Z', issued_certs=[KrillIssuedCert[uri=rsync://rpki.prepdev.ripe.net/repository/DEFAULT/zoMabLz6wx-5BE40ueD70GDCt8A.cer, req_limit={}, cert='MIIGGTCC...TPbUnrM=']], signing_cert=KrillIssuedCert[uri=rsync://rpki.prepdev.ripe.net/repository/aca/nShI3Pcy-TYPQxjVBUUT7N6lIS8.cer, req_limit=None, cert='MIJ1BjCC...dN7evQ=='], resource_set=KrillResources(asn='AS29136, AS41433, AS47423, AS51867', ipv4='5.100.168.0/21, 46.19.240.0/21, 93.186.16.0/20, 131.117.168.0/21, 178.239.80.0/20, 193.109.81.0/24, 195.3.172.0/22', ipv6='2a03:1b80::/29'))]\n",
      "INFO:__main__:[KrillResourceClass(class_name='DEFAULT', not_after='2023-07-01T00:00:00Z', issued_certs=[KrillIssuedCert[uri=rsync://rpki.prepdev.ripe.net/repository/DEFAULT/2PSAbqS0ajogWTBfGujfQ00c6s0.cer, req_limit={}, cert='MIIF4zCC...Mgv1SqY=']], signing_cert=KrillIssuedCert[uri=rsync://rpki.prepdev.ripe.net/repository/aca/nShI3Pcy-TYPQxjVBUUT7N6lIS8.cer, req_limit=None, cert='MIJ1BjCC...dN7evQ=='], resource_set=KrillResources(asn='AS35337, AS51237', ipv4='91.216.224.0/24, 194.56.211.0/24', ipv6=''))]\n",
      "INFO:__main__:[KrillResourceClass(class_name='DEFAULT', not_after='2023-07-01T00:00:00Z', issued_certs=[KrillIssuedCert[uri=rsync://rpki.prepdev.ripe.net/repository/DEFAULT/MHxiaAKL0en6L7Ey8DTQQVvX3a0.cer, req_limit={}, cert='MIIGCzCC...T68ow0WC']], signing_cert=KrillIssuedCert[uri=rsync://rpki.prepdev.ripe.net/repository/aca/nShI3Pcy-TYPQxjVBUUT7N6lIS8.cer, req_limit=None, cert='MIJ1BjCC...dN7evQ=='], resource_set=KrillResources(asn='AS39434, AS57227', ipv4='81.24.80.0/20, 81.163.32.0/19, 176.120.192.0/19, 185.59.244.0/22, 185.110.44.0/22', ipv6='2a04:e500::/29, 2a06:5440::/29'))]\n"
     ]
    }
   ],
   "source": [
    "\"\"\"Check CAs with communicaton issues, optionally delete\"\"\"\n",
    "DELETE_FAILING = False\n",
    "\n",
    "async with KrillApiClient(KRILL_URL, TOKEN, aiohttp.Fingerprint(digest)) as client:\n",
    "    for s in statuses:\n",
    "        if s.last_exchange.result != 'Success':\n",
    "            LOG.info(s.classes)\n",
    "            if DELETE_FAILING:\n",
    "                LOG.info(\"Deleting CA %s because of parrent communication status %s\", s.handle, s.last_exchange)\n",
    "                LOG.info(\"result: %s\", await client.ca_delete(s.handle))"
   ]
  },
  {
   "cell_type": "code",
   "execution_count": null,
   "id": "568c0426-e353-4fcd-aa7f-a62b5a9ecc0d",
   "metadata": {},
   "outputs": [],
   "source": []
  },
  {
   "cell_type": "code",
   "execution_count": null,
   "id": "6e02533e-04ee-4ff3-849c-1f8790664e57",
   "metadata": {},
   "outputs": [],
   "source": []
  },
  {
   "cell_type": "code",
   "execution_count": 11,
   "id": "4e6d7620-8684-4904-a861-56755a51bac8",
   "metadata": {},
   "outputs": [],
   "source": [
    "import pandas as pd"
   ]
  },
  {
   "cell_type": "code",
   "execution_count": 12,
   "id": "bb8f2b65-bd0b-45f0-b354-74505f8a92f3",
   "metadata": {},
   "outputs": [
    {
     "data": {
      "text/html": [
       "<div>\n",
       "<style scoped>\n",
       "    .dataframe tbody tr th:only-of-type {\n",
       "        vertical-align: middle;\n",
       "    }\n",
       "\n",
       "    .dataframe tbody tr th {\n",
       "        vertical-align: top;\n",
       "    }\n",
       "\n",
       "    .dataframe thead th {\n",
       "        text-align: right;\n",
       "    }\n",
       "</style>\n",
       "<table border=\"1\" class=\"dataframe\">\n",
       "  <thead>\n",
       "    <tr style=\"text-align: right;\">\n",
       "      <th></th>\n",
       "      <th>rel_last_exchange</th>\n",
       "      <th>rel_last_success</th>\n",
       "      <th>handle</th>\n",
       "    </tr>\n",
       "  </thead>\n",
       "  <tbody>\n",
       "    <tr>\n",
       "      <th>0</th>\n",
       "      <td>17805.47239</td>\n",
       "      <td>17805.47239</td>\n",
       "      <td>krill_publisher_674190894927</td>\n",
       "    </tr>\n",
       "    <tr>\n",
       "      <th>1</th>\n",
       "      <td>41827.47239</td>\n",
       "      <td>41827.47239</td>\n",
       "      <td>krill-testbed-cloud</td>\n",
       "    </tr>\n",
       "    <tr>\n",
       "      <th>2</th>\n",
       "      <td>25686.47239</td>\n",
       "      <td>25686.47239</td>\n",
       "      <td>krill_publisher_603985408889</td>\n",
       "    </tr>\n",
       "    <tr>\n",
       "      <th>3</th>\n",
       "      <td>112022.47239</td>\n",
       "      <td>112022.47239</td>\n",
       "      <td>krill_publisher_809090195649</td>\n",
       "    </tr>\n",
       "    <tr>\n",
       "      <th>4</th>\n",
       "      <td>56951.47239</td>\n",
       "      <td>56951.47239</td>\n",
       "      <td>krill_publisher_435587410369</td>\n",
       "    </tr>\n",
       "    <tr>\n",
       "      <th>...</th>\n",
       "      <td>...</td>\n",
       "      <td>...</td>\n",
       "      <td>...</td>\n",
       "    </tr>\n",
       "    <tr>\n",
       "      <th>269</th>\n",
       "      <td>20374.47239</td>\n",
       "      <td>20374.47239</td>\n",
       "      <td>krill_publisher_335644505148</td>\n",
       "    </tr>\n",
       "    <tr>\n",
       "      <th>270</th>\n",
       "      <td>25153.47239</td>\n",
       "      <td>25153.47239</td>\n",
       "      <td>krill_publisher_378089449302</td>\n",
       "    </tr>\n",
       "    <tr>\n",
       "      <th>271</th>\n",
       "      <td>565.47239</td>\n",
       "      <td>565.47239</td>\n",
       "      <td>krill_publisher_556491294620</td>\n",
       "    </tr>\n",
       "    <tr>\n",
       "      <th>272</th>\n",
       "      <td>55088.47239</td>\n",
       "      <td>55088.47239</td>\n",
       "      <td>krill_publisher_519703114561</td>\n",
       "    </tr>\n",
       "    <tr>\n",
       "      <th>273</th>\n",
       "      <td>28890.47239</td>\n",
       "      <td>28890.47239</td>\n",
       "      <td>krill_publisher_634900463955</td>\n",
       "    </tr>\n",
       "  </tbody>\n",
       "</table>\n",
       "<p>274 rows × 3 columns</p>\n",
       "</div>"
      ],
      "text/plain": [
       "     rel_last_exchange  rel_last_success                        handle\n",
       "0          17805.47239       17805.47239  krill_publisher_674190894927\n",
       "1          41827.47239       41827.47239           krill-testbed-cloud\n",
       "2          25686.47239       25686.47239  krill_publisher_603985408889\n",
       "3         112022.47239      112022.47239  krill_publisher_809090195649\n",
       "4          56951.47239       56951.47239  krill_publisher_435587410369\n",
       "..                 ...               ...                           ...\n",
       "269        20374.47239       20374.47239  krill_publisher_335644505148\n",
       "270        25153.47239       25153.47239  krill_publisher_378089449302\n",
       "271          565.47239         565.47239  krill_publisher_556491294620\n",
       "272        55088.47239       55088.47239  krill_publisher_519703114561\n",
       "273        28890.47239       28890.47239  krill_publisher_634900463955\n",
       "\n",
       "[274 rows x 3 columns]"
      ]
     },
     "execution_count": 12,
     "metadata": {},
     "output_type": "execute_result"
    }
   ],
   "source": [
    "now = time.time()\n",
    "df = pd.DataFrame([{'rel_last_exchange': now - s.last_exchange.timestamp, 'rel_last_success': now - s.last_success, 'handle': s.handle} for s in statuses])\n",
    "# No need to have long dataframe when using `df.plot.hist`, needed for `df.plot.hist(bins=20, by='variable')`\n",
    "#df = pd.melt(df, id_vars=['handle'], value_vars=['last_exchange', 'last_success'])\n",
    "\n",
    "df"
   ]
  },
  {
   "cell_type": "code",
   "execution_count": 13,
   "id": "6afec201-e87c-4179-aaf0-94e9bc218fe7",
   "metadata": {},
   "outputs": [
    {
     "data": {
      "text/plain": [
       "<AxesSubplot: ylabel='Frequency'>"
      ]
     },
     "execution_count": 13,
     "metadata": {},
     "output_type": "execute_result"
    },
    {
     "data": {
      "image/png": "[encoded data removed]",
      "text/plain": [
       "<Figure size 640x480 with 1 Axes>"
      ]
     },
     "metadata": {},
     "output_type": "display_data"
    }
   ],
   "source": [
    "df.plot.hist(bins=20, alpha=0.5)"
   ]
  },
  {
   "cell_type": "code",
   "execution_count": 21,
   "id": "827df835-bcef-4d84-bece-63503e18f91b",
   "metadata": {},
   "outputs": [
    {
     "data": {
      "text/html": [
       "<div>\n",
       "<style scoped>\n",
       "    .dataframe tbody tr th:only-of-type {\n",
       "        vertical-align: middle;\n",
       "    }\n",
       "\n",
       "    .dataframe tbody tr th {\n",
       "        vertical-align: top;\n",
       "    }\n",
       "\n",
       "    .dataframe thead th {\n",
       "        text-align: right;\n",
       "    }\n",
       "</style>\n",
       "<table border=\"1\" class=\"dataframe\">\n",
       "  <thead>\n",
       "    <tr style=\"text-align: right;\">\n",
       "      <th></th>\n",
       "      <th>rel_last_exchange</th>\n",
       "      <th>rel_last_success</th>\n",
       "      <th>handle</th>\n",
       "    </tr>\n",
       "  </thead>\n",
       "  <tbody>\n",
       "    <tr>\n",
       "      <th>0</th>\n",
       "      <td>55975.199161</td>\n",
       "      <td>55975.199161</td>\n",
       "      <td>krill_publisher_674190894927</td>\n",
       "    </tr>\n",
       "    <tr>\n",
       "      <th>2</th>\n",
       "      <td>14639.199161</td>\n",
       "      <td>14639.199161</td>\n",
       "      <td>krill_publisher_603985408889</td>\n",
       "    </tr>\n",
       "    <tr>\n",
       "      <th>3</th>\n",
       "      <td>1830.199161</td>\n",
       "      <td>1830.199161</td>\n",
       "      <td>krill_publisher_809090195649</td>\n",
       "    </tr>\n",
       "    <tr>\n",
       "      <th>5</th>\n",
       "      <td>13203.199161</td>\n",
       "      <td>13203.199161</td>\n",
       "      <td>krill_publisher_746616548133</td>\n",
       "    </tr>\n",
       "    <tr>\n",
       "      <th>6</th>\n",
       "      <td>71645.199161</td>\n",
       "      <td>71645.199161</td>\n",
       "      <td>krill_publisher_318351530302</td>\n",
       "    </tr>\n",
       "    <tr>\n",
       "      <th>...</th>\n",
       "      <td>...</td>\n",
       "      <td>...</td>\n",
       "      <td>...</td>\n",
       "    </tr>\n",
       "    <tr>\n",
       "      <th>273</th>\n",
       "      <td>25348.199161</td>\n",
       "      <td>25348.199161</td>\n",
       "      <td>krill_publisher_335644505148</td>\n",
       "    </tr>\n",
       "    <tr>\n",
       "      <th>274</th>\n",
       "      <td>25274.199161</td>\n",
       "      <td>25274.199161</td>\n",
       "      <td>krill_publisher_378089449302</td>\n",
       "    </tr>\n",
       "    <tr>\n",
       "      <th>276</th>\n",
       "      <td>5895.199161</td>\n",
       "      <td>5895.199161</td>\n",
       "      <td>krill_publisher_519703114561</td>\n",
       "    </tr>\n",
       "    <tr>\n",
       "      <th>277</th>\n",
       "      <td>21144.199161</td>\n",
       "      <td>21144.199161</td>\n",
       "      <td>krill_publisher_634900463955</td>\n",
       "    </tr>\n",
       "    <tr>\n",
       "      <th>278</th>\n",
       "      <td>79872.199161</td>\n",
       "      <td>79872.199161</td>\n",
       "      <td>krill-acceptance-test</td>\n",
       "    </tr>\n",
       "  </tbody>\n",
       "</table>\n",
       "<p>191 rows × 3 columns</p>\n",
       "</div>"
      ],
      "text/plain": [
       "     rel_last_exchange  rel_last_success                        handle\n",
       "0         55975.199161      55975.199161  krill_publisher_674190894927\n",
       "2         14639.199161      14639.199161  krill_publisher_603985408889\n",
       "3          1830.199161       1830.199161  krill_publisher_809090195649\n",
       "5         13203.199161      13203.199161  krill_publisher_746616548133\n",
       "6         71645.199161      71645.199161  krill_publisher_318351530302\n",
       "..                 ...               ...                           ...\n",
       "273       25348.199161      25348.199161  krill_publisher_335644505148\n",
       "274       25274.199161      25274.199161  krill_publisher_378089449302\n",
       "276        5895.199161       5895.199161  krill_publisher_519703114561\n",
       "277       21144.199161      21144.199161  krill_publisher_634900463955\n",
       "278       79872.199161      79872.199161         krill-acceptance-test\n",
       "\n",
       "[191 rows x 3 columns]"
      ]
     },
     "execution_count": 21,
     "metadata": {},
     "output_type": "execute_result"
    }
   ],
   "source": [
    "df[df.rel_last_exchange < 24*3600]"
   ]
  },
  {
   "cell_type": "code",
   "execution_count": 14,
   "id": "a6fdb7bf-81ff-49ad-b576-ffa0169966c6",
   "metadata": {},
   "outputs": [
    {
     "name": "stderr",
     "output_type": "stream",
     "text": [
      "INFO:__main__:Loaded a list of 274 CAs in 0.434s. Loaded 274 CA statuses in 8.330s\n"
     ]
    }
   ],
   "source": [
    "\"\"\"\n",
    "Get the status of all krill CAs\n",
    "\"\"\"\n",
    "async with KrillApiClient(KRILL_URL, TOKEN, aiohttp.Fingerprint(digest)) as client:\n",
    "    t0 = time.time()\n",
    "\n",
    "    res = await client.list()\n",
    "    \n",
    "    t1 = time.time()\n",
    "    \n",
    "    statuses = await asyncio.gather(*[\n",
    "        client.ca_status(r.handle)\n",
    "        for r in res\n",
    "    ])\n",
    "    \n",
    "    t2 = time.time()\n",
    "    \n",
    "LOG.info(f\"Loaded a list of %d CAs in %.3fs. Loaded %d CA statuses in %.3fs\", len(res), t1-t0, len(statuses), t2-t1)\n"
   ]
  },
  {
   "cell_type": "code",
   "execution_count": 15,
   "id": "363b1763-5e09-42ae-b3e4-ca17eb7debeb",
   "metadata": {},
   "outputs": [
    {
     "name": "stderr",
     "output_type": "stream",
     "text": [
      "INFO:__main__:Deleted 0 CAs without repository configured [0 failures].\n"
     ]
    }
   ],
   "source": [
    "\"\"\"\n",
    "Delete CAs without repo info\n",
    "\"\"\"\n",
    "async with KrillApiClient(KRILL_URL, TOKEN, aiohttp.Fingerprint(digest)) as client:\n",
    "    deleted = 0\n",
    "    failed = 0\n",
    "    for s in statuses:\n",
    "        if s.repo_info is None:\n",
    "            try:\n",
    "                await client.ca_delete(s.handle)\n",
    "                deleted += 1\n",
    "            except KrillApiError as e:\n",
    "                failed += 1\n",
    "    LOG.info(\"Deleted %d CAs without repository configured [%d failures].\", deleted, failed)"
   ]
  },
  {
   "cell_type": "code",
   "execution_count": null,
   "id": "f17b2a89-1a2c-425a-82ff-a4f1fa8297d6",
   "metadata": {},
   "outputs": [],
   "source": []
  },
  {
   "cell_type": "code",
   "execution_count": null,
   "id": "a9f14f5a-5a3a-4399-8a4b-9361829ccf45",
   "metadata": {},
   "outputs": [],
   "source": []
  }
 ],
 "metadata": {
  "kernelspec": {
   "display_name": "Python 3 (ipykernel)",
   "language": "python",
   "name": "python3"
  },
  "language_info": {
   "codemirror_mode": {
    "name": "ipython",
    "version": 3
   },
   "file_extension": ".py",
   "mimetype": "text/x-python",
   "name": "python",
   "nbconvert_exporter": "python",
   "pygments_lexer": "ipython3",
   "version": "3.11.0"
  }
 },
 "nbformat": 4,
 "nbformat_minor": 5
}
