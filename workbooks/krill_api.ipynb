{
 "cells": [
  {
   "cell_type": "code",
   "execution_count": 9,
   "id": "70b96a9d-cc94-409e-8d2a-5519f1e82aec",
   "metadata": {},
   "outputs": [],
   "source": [
    "import logging\n",
    "import os\n",
    "import sys\n",
    "\n",
    "# Add working dir to path\n",
    "sys.path.insert(0,os.environ['PWD'])\n",
    "\n",
    "logging.basicConfig()\n",
    "logging.getLogger().setLevel(logging.DEBUG)\n",
    "\n",
    "LOG = logging.getLogger(__name__)"
   ]
  },
  {
   "cell_type": "code",
   "execution_count": 10,
   "id": "9a1334dc-aa9a-46e5-9d4d-36172c9cfa56",
   "metadata": {},
   "outputs": [],
   "source": [
    "import itertools\n",
    "import hashlib\n",
    "import logging\n",
    "import os\n",
    "import ssl\n",
    "import time\n",
    "\n",
    "\n",
    "import aiohttp\n",
    "import asyncio\n",
    "\n",
    "from contextlib import asynccontextmanager\n",
    "\n",
    "from krill_api import KrillApiClient"
   ]
  },
  {
   "cell_type": "code",
   "execution_count": 11,
   "id": "9c36ad54-f741-4770-8ced-b2b9bb2c2802",
   "metadata": {},
   "outputs": [],
   "source": [
    "TOKEN = os.environ['KRILL_TOKEN']\n",
    "KRILL_URL = os.environ['KRILL_URL']\n",
    "KRILL_CERT_PATH = os.environ['KRILL_CERT_PATH']\n",
    "\n",
    "# Dump the certificate in DER format like\n",
    "# > openssl s_client -showcerts \\\n",
    "#     -servername krill.host \\\n",
    "#     -connect krill.host:3000 2>/dev/null | openssl x509 -inform pem -outform DER -out {KRILL_CERT_PATH}.der\n",
    "#\n",
    "\n",
    "\n",
    "with open(KRILL_CERT_PATH, 'rb') as f:\n",
    "    digest = hashlib.sha256(f.read()).digest()\n",
    "    \n",
    "logging.basicConfig()\n",
    "LOG = logging.getLogger(__name__)"
   ]
  },
  {
   "cell_type": "code",
   "execution_count": 12,
   "id": "411b328e-fe76-4495-bce1-06a5d6199881",
   "metadata": {},
   "outputs": [
    {
     "name": "stdout",
     "output_type": "stream",
     "text": [
      "{'version': '0.12.0', 'started': 1669969880}\n"
     ]
    }
   ],
   "source": [
    "async with aiohttp.ClientSession(headers={'Authorization': f\"Bearer {TOKEN}\", \"Accept\": \"application/json\"}) as session:\n",
    "    async with session.get(KRILL_URL + \"/stats/info\", ssl=aiohttp.Fingerprint(digest)) as r:\n",
    "        json_body = await r.json()\n",
    "        print(json_body)"
   ]
  },
  {
   "cell_type": "code",
   "execution_count": 13,
   "id": "c4999e27-ea7b-41f5-b1a0-58489d52d6d5",
   "metadata": {},
   "outputs": [
    {
     "name": "stdout",
     "output_type": "stream",
     "text": [
      "KrillStatusInfo(version='0.12.0', started=1669969880)\n"
     ]
    }
   ],
   "source": [
    "async with KrillApiClient(KRILL_URL, TOKEN, aiohttp.Fingerprint(digest)) as client:\n",
    "    print(await client.info())\n"
   ]
  },
  {
   "cell_type": "code",
   "execution_count": 18,
   "id": "92788e41-767a-4265-8c44-70cf1567e965",
   "metadata": {},
   "outputs": [
    {
     "name": "stderr",
     "output_type": "stream",
     "text": [
      "INFO:__main__:Loaded a list of 1281 CAs in 1.878s. Loaded 1281 CA details in 8.492s\n"
     ]
    }
   ],
   "source": [
    "\"\"\"\n",
    "Get the status of all krill CAs\n",
    "\"\"\"\n",
    "async with KrillApiClient(KRILL_URL, TOKEN, aiohttp.Fingerprint(digest)) as client:\n",
    "    t0 = time.time()\n",
    "\n",
    "    res = await client.list()\n",
    "    \n",
    "    t1 = time.time()\n",
    "    \n",
    "    status_lists = await asyncio.gather(*[\n",
    "        client.ca_parent_status(r.handle)\n",
    "        for r in res\n",
    "    ])\n",
    "    \n",
    "    t2 = time.time()\n",
    "    statuses = list(itertools.chain.from_iterable(status_lists))\n",
    "    \n",
    "LOG.info(f\"Loaded a list of %d CAs in %.3fs. Loaded %d CA details in %.3fs\", len(res), t1-t0, len(status_lists), t2-t1)"
   ]
  },
  {
   "cell_type": "code",
   "execution_count": 17,
   "id": "568c0426-e353-4fcd-aa7f-a62b5a9ecc0d",
   "metadata": {},
   "outputs": [],
   "source": [
    "\"\"\"\n",
    "Delete CAs with failing parent communication\n",
    "\"\"\"\n",
    "async with KrillApiClient(KRILL_URL, TOKEN, aiohttp.Fingerprint(digest)) as client:\n",
    "    for s in statuses:\n",
    "        if s.last_exchange.result != 'Success':\n",
    "            LOG.info(\"Deleting CA {} because of status {}\", s.handle, s.last_exchange)\n",
    "            LOG.info(\"result: {}\", await client.ca_delete(s.handle))"
   ]
  },
  {
   "cell_type": "code",
   "execution_count": null,
   "id": "4e6d7620-8684-4904-a861-56755a51bac8",
   "metadata": {},
   "outputs": [],
   "source": []
  },
  {
   "cell_type": "code",
   "execution_count": null,
   "id": "bb8f2b65-bd0b-45f0-b354-74505f8a92f3",
   "metadata": {},
   "outputs": [],
   "source": []
  }
 ],
 "metadata": {
  "kernelspec": {
   "display_name": "Python 3 (ipykernel)",
   "language": "python",
   "name": "python3"
  },
  "language_info": {
   "codemirror_mode": {
    "name": "ipython",
    "version": 3
   },
   "file_extension": ".py",
   "mimetype": "text/x-python",
   "name": "python",
   "nbconvert_exporter": "python",
   "pygments_lexer": "ipython3",
   "version": "3.11.0"
  }
 },
 "nbformat": 4,
 "nbformat_minor": 5
}
