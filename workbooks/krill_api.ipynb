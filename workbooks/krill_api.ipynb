{
 "cells": [
  {
   "cell_type": "code",
   "execution_count": 1,
   "id": "70b96a9d-cc94-409e-8d2a-5519f1e82aec",
   "metadata": {},
   "outputs": [],
   "source": [
    "import logging\n",
    "import os\n",
    "import sys\n",
    "\n",
    "# Add working dir to path\n",
    "sys.path.insert(0,os.environ['PWD'])\n",
    "\n",
    "logging.basicConfig()\n",
    "logging.getLogger('matplotlib').setLevel(logging.ERROR)\n",
    "logging.getLogger().setLevel(logging.DEBUG)\n",
    "\n",
    "LOG = logging.getLogger(__name__)"
   ]
  },
  {
   "cell_type": "code",
   "execution_count": 14,
   "id": "9a1334dc-aa9a-46e5-9d4d-36172c9cfa56",
   "metadata": {},
   "outputs": [
    {
     "ename": "ImportError",
     "evalue": "cannot import name 'KrillApiError' from 'krill_api.models' (/Users/tdekock/src/ripe/rpki/testing/krill-status/krill_api/models.py)",
     "output_type": "error",
     "traceback": [
      "\u001b[0;31m---------------------------------------------------------------------------\u001b[0m",
      "\u001b[0;31mImportError\u001b[0m                               Traceback (most recent call last)",
      "Cell \u001b[0;32mIn[14], line 15\u001b[0m\n\u001b[1;32m     12\u001b[0m \u001b[38;5;28;01mfrom\u001b[39;00m \u001b[38;5;21;01mcontextlib\u001b[39;00m \u001b[38;5;28;01mimport\u001b[39;00m asynccontextmanager\n\u001b[1;32m     14\u001b[0m \u001b[38;5;28;01mfrom\u001b[39;00m \u001b[38;5;21;01mkrill_api\u001b[39;00m \u001b[38;5;28;01mimport\u001b[39;00m KrillApiClient\n\u001b[0;32m---> 15\u001b[0m \u001b[38;5;28;01mfrom\u001b[39;00m \u001b[38;5;21;01mkrill_api\u001b[39;00m\u001b[38;5;21;01m.\u001b[39;00m\u001b[38;5;21;01mmodels\u001b[39;00m \u001b[38;5;28;01mimport\u001b[39;00m KrillApiError\n",
      "\u001b[0;31mImportError\u001b[0m: cannot import name 'KrillApiError' from 'krill_api.models' (/Users/tdekock/src/ripe/rpki/testing/krill-status/krill_api/models.py)"
     ]
    }
   ],
   "source": [
    "import itertools\n",
    "import hashlib\n",
    "import logging\n",
    "import os\n",
    "import ssl\n",
    "import time\n",
    "\n",
    "\n",
    "import aiohttp\n",
    "import asyncio\n",
    "\n",
    "from contextlib import asynccontextmanager\n",
    "\n",
    "from krill_api import KrillApiClient\n",
    "from krill_api.models import KrillApiError"
   ]
  },
  {
   "cell_type": "code",
   "execution_count": null,
   "id": "9c36ad54-f741-4770-8ced-b2b9bb2c2802",
   "metadata": {},
   "outputs": [],
   "source": [
    "TOKEN = os.environ['KRILL_TOKEN']\n",
    "KRILL_URL = os.environ['KRILL_URL']\n",
    "KRILL_CERT_PATH = os.environ['KRILL_CERT_PATH']\n",
    "\n",
    "# Dump the certificate in DER format like\n",
    "# > openssl s_client -showcerts \\\n",
    "#     -servername krill.host \\\n",
    "#     -connect krill.host:3000 2>/dev/null | openssl x509 -inform pem -outform DER -out {KRILL_CERT_PATH}.der\n",
    "#\n",
    "\n",
    "\n",
    "with open(KRILL_CERT_PATH, 'rb') as f:\n",
    "    digest = hashlib.sha256(f.read()).digest()\n",
    "    \n",
    "logging.basicConfig()\n",
    "LOG = logging.getLogger(__name__)"
   ]
  },
  {
   "cell_type": "code",
   "execution_count": null,
   "id": "411b328e-fe76-4495-bce1-06a5d6199881",
   "metadata": {},
   "outputs": [],
   "source": [
    "async with aiohttp.ClientSession(headers={'Authorization': f\"Bearer {TOKEN}\", \"Accept\": \"application/json\"}) as session:\n",
    "    async with session.get(KRILL_URL + \"/stats/info\", ssl=aiohttp.Fingerprint(digest)) as r:\n",
    "        json_body = await r.json()\n",
    "        print(json_body)"
   ]
  },
  {
   "cell_type": "code",
   "execution_count": 15,
   "id": "c4999e27-ea7b-41f5-b1a0-58489d52d6d5",
   "metadata": {},
   "outputs": [
    {
     "name": "stdout",
     "output_type": "stream",
     "text": [
      "KrillStatusInfo(version='0.12.0', started=1669969880)\n"
     ]
    }
   ],
   "source": [
    "async with KrillApiClient(KRILL_URL, TOKEN, aiohttp.Fingerprint(digest)) as client:\n",
    "    print(await client.info())\n"
   ]
  },
  {
   "cell_type": "code",
   "execution_count": 16,
   "id": "92788e41-767a-4265-8c44-70cf1567e965",
   "metadata": {},
   "outputs": [
    {
     "name": "stderr",
     "output_type": "stream",
     "text": [
      "INFO:__main__:Loaded a list of 279 CAs in 0.430s. Loaded 279 CA parent details in 8.262s\n"
     ]
    }
   ],
   "source": [
    "\"\"\"\n",
    "Get the status of all krill CAs\n",
    "\"\"\"\n",
    "async with KrillApiClient(KRILL_URL, TOKEN, aiohttp.Fingerprint(digest)) as client:\n",
    "    t0 = time.time()\n",
    "\n",
    "    res = await client.list()\n",
    "    \n",
    "    t1 = time.time()\n",
    "    \n",
    "    status_lists = await asyncio.gather(*[\n",
    "        client.ca_parent_status(r.handle)\n",
    "        for r in res\n",
    "    ])\n",
    "    \n",
    "    t2 = time.time()\n",
    "    statuses = list(itertools.chain.from_iterable(status_lists))\n",
    "    \n",
    "LOG.info(f\"Loaded a list of %d CAs in %.3fs. Loaded %d CA parent details in %.3fs\", len(res), t1-t0, len(status_lists), t2-t1)"
   ]
  },
  {
   "cell_type": "code",
   "execution_count": 17,
   "id": "568c0426-e353-4fcd-aa7f-a62b5a9ecc0d",
   "metadata": {},
   "outputs": [],
   "source": [
    "\"\"\"\n",
    "Delete CAs with failing parent communication\n",
    "\"\"\"\n",
    "async with KrillApiClient(KRILL_URL, TOKEN, aiohttp.Fingerprint(digest)) as client:\n",
    "    for s in statuses:\n",
    "        if s.last_exchange.result != 'Success':\n",
    "            LOG.info(\"Deleting CA %s because of parrent communication status %s\", s.handle, s.last_exchange)\n",
    "            LOG.info(\"result: %s\", await client.ca_delete(s.handle))"
   ]
  },
  {
   "cell_type": "code",
   "execution_count": 18,
   "id": "4e6d7620-8684-4904-a861-56755a51bac8",
   "metadata": {},
   "outputs": [],
   "source": [
    "import pandas as pd"
   ]
  },
  {
   "cell_type": "code",
   "execution_count": 19,
   "id": "bb8f2b65-bd0b-45f0-b354-74505f8a92f3",
   "metadata": {},
   "outputs": [
    {
     "data": {
      "text/html": [
       "<div>\n",
       "<style scoped>\n",
       "    .dataframe tbody tr th:only-of-type {\n",
       "        vertical-align: middle;\n",
       "    }\n",
       "\n",
       "    .dataframe tbody tr th {\n",
       "        vertical-align: top;\n",
       "    }\n",
       "\n",
       "    .dataframe thead th {\n",
       "        text-align: right;\n",
       "    }\n",
       "</style>\n",
       "<table border=\"1\" class=\"dataframe\">\n",
       "  <thead>\n",
       "    <tr style=\"text-align: right;\">\n",
       "      <th></th>\n",
       "      <th>rel_last_exchange</th>\n",
       "      <th>rel_last_success</th>\n",
       "      <th>handle</th>\n",
       "    </tr>\n",
       "  </thead>\n",
       "  <tbody>\n",
       "    <tr>\n",
       "      <th>0</th>\n",
       "      <td>55975.199161</td>\n",
       "      <td>55975.199161</td>\n",
       "      <td>krill_publisher_674190894927</td>\n",
       "    </tr>\n",
       "    <tr>\n",
       "      <th>1</th>\n",
       "      <td>94655.199161</td>\n",
       "      <td>94655.199161</td>\n",
       "      <td>krill-testbed-cloud</td>\n",
       "    </tr>\n",
       "    <tr>\n",
       "      <th>2</th>\n",
       "      <td>14639.199161</td>\n",
       "      <td>14639.199161</td>\n",
       "      <td>krill_publisher_603985408889</td>\n",
       "    </tr>\n",
       "    <tr>\n",
       "      <th>3</th>\n",
       "      <td>1830.199161</td>\n",
       "      <td>1830.199161</td>\n",
       "      <td>krill_publisher_809090195649</td>\n",
       "    </tr>\n",
       "    <tr>\n",
       "      <th>4</th>\n",
       "      <td>87121.199161</td>\n",
       "      <td>87121.199161</td>\n",
       "      <td>krill_publisher_435587410369</td>\n",
       "    </tr>\n",
       "    <tr>\n",
       "      <th>...</th>\n",
       "      <td>...</td>\n",
       "      <td>...</td>\n",
       "      <td>...</td>\n",
       "    </tr>\n",
       "    <tr>\n",
       "      <th>274</th>\n",
       "      <td>25274.199161</td>\n",
       "      <td>25274.199161</td>\n",
       "      <td>krill_publisher_378089449302</td>\n",
       "    </tr>\n",
       "    <tr>\n",
       "      <th>275</th>\n",
       "      <td>96207.199161</td>\n",
       "      <td>96207.199161</td>\n",
       "      <td>krill_publisher_556491294620</td>\n",
       "    </tr>\n",
       "    <tr>\n",
       "      <th>276</th>\n",
       "      <td>5895.199161</td>\n",
       "      <td>5895.199161</td>\n",
       "      <td>krill_publisher_519703114561</td>\n",
       "    </tr>\n",
       "    <tr>\n",
       "      <th>277</th>\n",
       "      <td>21144.199161</td>\n",
       "      <td>21144.199161</td>\n",
       "      <td>krill_publisher_634900463955</td>\n",
       "    </tr>\n",
       "    <tr>\n",
       "      <th>278</th>\n",
       "      <td>79872.199161</td>\n",
       "      <td>79872.199161</td>\n",
       "      <td>krill-acceptance-test</td>\n",
       "    </tr>\n",
       "  </tbody>\n",
       "</table>\n",
       "<p>279 rows × 3 columns</p>\n",
       "</div>"
      ],
      "text/plain": [
       "     rel_last_exchange  rel_last_success                        handle\n",
       "0         55975.199161      55975.199161  krill_publisher_674190894927\n",
       "1         94655.199161      94655.199161           krill-testbed-cloud\n",
       "2         14639.199161      14639.199161  krill_publisher_603985408889\n",
       "3          1830.199161       1830.199161  krill_publisher_809090195649\n",
       "4         87121.199161      87121.199161  krill_publisher_435587410369\n",
       "..                 ...               ...                           ...\n",
       "274       25274.199161      25274.199161  krill_publisher_378089449302\n",
       "275       96207.199161      96207.199161  krill_publisher_556491294620\n",
       "276        5895.199161       5895.199161  krill_publisher_519703114561\n",
       "277       21144.199161      21144.199161  krill_publisher_634900463955\n",
       "278       79872.199161      79872.199161         krill-acceptance-test\n",
       "\n",
       "[279 rows x 3 columns]"
      ]
     },
     "execution_count": 19,
     "metadata": {},
     "output_type": "execute_result"
    }
   ],
   "source": [
    "now = time.time()\n",
    "df = pd.DataFrame([{'rel_last_exchange': now - s.last_exchange.timestamp, 'rel_last_success': now - s.last_success, 'handle': s.handle} for s in statuses])\n",
    "# No need to have long dataframe when using `df.plot.hist`, needed for `df.plot.hist(bins=20, by='variable')`\n",
    "#df = pd.melt(df, id_vars=['handle'], value_vars=['last_exchange', 'last_success'])\n",
    "\n",
    "df"
   ]
  },
  {
   "cell_type": "code",
   "execution_count": 20,
   "id": "6afec201-e87c-4179-aaf0-94e9bc218fe7",
   "metadata": {},
   "outputs": [
    {
     "data": {
      "text/plain": [
       "<AxesSubplot: ylabel='Frequency'>"
      ]
     },
     "execution_count": 20,
     "metadata": {},
     "output_type": "execute_result"
    },
    {
     "data": {
      "image/png": "[encoded data removed]",
      "text/plain": [
       "<Figure size 640x480 with 1 Axes>"
      ]
     },
     "metadata": {},
     "output_type": "display_data"
    }
   ],
   "source": [
    "df.plot.hist(bins=20, alpha=0.5)"
   ]
  },
  {
   "cell_type": "code",
   "execution_count": 21,
   "id": "827df835-bcef-4d84-bece-63503e18f91b",
   "metadata": {},
   "outputs": [
    {
     "data": {
      "text/html": [
       "<div>\n",
       "<style scoped>\n",
       "    .dataframe tbody tr th:only-of-type {\n",
       "        vertical-align: middle;\n",
       "    }\n",
       "\n",
       "    .dataframe tbody tr th {\n",
       "        vertical-align: top;\n",
       "    }\n",
       "\n",
       "    .dataframe thead th {\n",
       "        text-align: right;\n",
       "    }\n",
       "</style>\n",
       "<table border=\"1\" class=\"dataframe\">\n",
       "  <thead>\n",
       "    <tr style=\"text-align: right;\">\n",
       "      <th></th>\n",
       "      <th>rel_last_exchange</th>\n",
       "      <th>rel_last_success</th>\n",
       "      <th>handle</th>\n",
       "    </tr>\n",
       "  </thead>\n",
       "  <tbody>\n",
       "    <tr>\n",
       "      <th>0</th>\n",
       "      <td>55975.199161</td>\n",
       "      <td>55975.199161</td>\n",
       "      <td>krill_publisher_674190894927</td>\n",
       "    </tr>\n",
       "    <tr>\n",
       "      <th>2</th>\n",
       "      <td>14639.199161</td>\n",
       "      <td>14639.199161</td>\n",
       "      <td>krill_publisher_603985408889</td>\n",
       "    </tr>\n",
       "    <tr>\n",
       "      <th>3</th>\n",
       "      <td>1830.199161</td>\n",
       "      <td>1830.199161</td>\n",
       "      <td>krill_publisher_809090195649</td>\n",
       "    </tr>\n",
       "    <tr>\n",
       "      <th>5</th>\n",
       "      <td>13203.199161</td>\n",
       "      <td>13203.199161</td>\n",
       "      <td>krill_publisher_746616548133</td>\n",
       "    </tr>\n",
       "    <tr>\n",
       "      <th>6</th>\n",
       "      <td>71645.199161</td>\n",
       "      <td>71645.199161</td>\n",
       "      <td>krill_publisher_318351530302</td>\n",
       "    </tr>\n",
       "    <tr>\n",
       "      <th>...</th>\n",
       "      <td>...</td>\n",
       "      <td>...</td>\n",
       "      <td>...</td>\n",
       "    </tr>\n",
       "    <tr>\n",
       "      <th>273</th>\n",
       "      <td>25348.199161</td>\n",
       "      <td>25348.199161</td>\n",
       "      <td>krill_publisher_335644505148</td>\n",
       "    </tr>\n",
       "    <tr>\n",
       "      <th>274</th>\n",
       "      <td>25274.199161</td>\n",
       "      <td>25274.199161</td>\n",
       "      <td>krill_publisher_378089449302</td>\n",
       "    </tr>\n",
       "    <tr>\n",
       "      <th>276</th>\n",
       "      <td>5895.199161</td>\n",
       "      <td>5895.199161</td>\n",
       "      <td>krill_publisher_519703114561</td>\n",
       "    </tr>\n",
       "    <tr>\n",
       "      <th>277</th>\n",
       "      <td>21144.199161</td>\n",
       "      <td>21144.199161</td>\n",
       "      <td>krill_publisher_634900463955</td>\n",
       "    </tr>\n",
       "    <tr>\n",
       "      <th>278</th>\n",
       "      <td>79872.199161</td>\n",
       "      <td>79872.199161</td>\n",
       "      <td>krill-acceptance-test</td>\n",
       "    </tr>\n",
       "  </tbody>\n",
       "</table>\n",
       "<p>191 rows × 3 columns</p>\n",
       "</div>"
      ],
      "text/plain": [
       "     rel_last_exchange  rel_last_success                        handle\n",
       "0         55975.199161      55975.199161  krill_publisher_674190894927\n",
       "2         14639.199161      14639.199161  krill_publisher_603985408889\n",
       "3          1830.199161       1830.199161  krill_publisher_809090195649\n",
       "5         13203.199161      13203.199161  krill_publisher_746616548133\n",
       "6         71645.199161      71645.199161  krill_publisher_318351530302\n",
       "..                 ...               ...                           ...\n",
       "273       25348.199161      25348.199161  krill_publisher_335644505148\n",
       "274       25274.199161      25274.199161  krill_publisher_378089449302\n",
       "276        5895.199161       5895.199161  krill_publisher_519703114561\n",
       "277       21144.199161      21144.199161  krill_publisher_634900463955\n",
       "278       79872.199161      79872.199161         krill-acceptance-test\n",
       "\n",
       "[191 rows x 3 columns]"
      ]
     },
     "execution_count": 21,
     "metadata": {},
     "output_type": "execute_result"
    }
   ],
   "source": [
    "df[df.rel_last_exchange < 24*3600]"
   ]
  },
  {
   "cell_type": "code",
   "execution_count": 22,
   "id": "a6fdb7bf-81ff-49ad-b576-ffa0169966c6",
   "metadata": {},
   "outputs": [
    {
     "name": "stderr",
     "output_type": "stream",
     "text": [
      "INFO:__main__:Loaded a list of 279 CAs in 0.520s. Loaded 279 CA statuses in 8.287s\n"
     ]
    }
   ],
   "source": [
    "\"\"\"\n",
    "Get the status of all krill CAs\n",
    "\"\"\"\n",
    "async with KrillApiClient(KRILL_URL, TOKEN, aiohttp.Fingerprint(digest)) as client:\n",
    "    t0 = time.time()\n",
    "\n",
    "    res = await client.list()\n",
    "    \n",
    "    t1 = time.time()\n",
    "    \n",
    "    statuses = await asyncio.gather(*[\n",
    "        client.ca_status(r.handle)\n",
    "        for r in res\n",
    "    ])\n",
    "    \n",
    "    t2 = time.time()\n",
    "    \n",
    "LOG.info(f\"Loaded a list of %d CAs in %.3fs. Loaded %d CA statuses in %.3fs\", len(res), t1-t0, len(statuses), t2-t1)\n"
   ]
  },
  {
   "cell_type": "code",
   "execution_count": 23,
   "id": "363b1763-5e09-42ae-b3e4-ca17eb7debeb",
   "metadata": {},
   "outputs": [
    {
     "name": "stderr",
     "output_type": "stream",
     "text": [
      "INFO:__main__:Deleted 0 CAs without repository configured [0 failures].\n"
     ]
    }
   ],
   "source": [
    "\"\"\"\n",
    "Delete CAs without repo info\n",
    "\"\"\"\n",
    "async with KrillApiClient(KRILL_URL, TOKEN, aiohttp.Fingerprint(digest)) as client:\n",
    "    deleted = 0\n",
    "    failed = 0\n",
    "    for s in statuses:\n",
    "        if s.repo_info is None:\n",
    "            try:\n",
    "                await client.ca_delete(s.handle)\n",
    "                deleted += 1\n",
    "            except KrillApiError as e:\n",
    "                failed += 1\n",
    "    LOG.info(\"Deleted %d CAs without repository configured [%d failures].\", deleted, failed)"
   ]
  },
  {
   "cell_type": "code",
   "execution_count": null,
   "id": "f17b2a89-1a2c-425a-82ff-a4f1fa8297d6",
   "metadata": {},
   "outputs": [],
   "source": []
  }
 ],
 "metadata": {
  "kernelspec": {
   "display_name": "Python 3 (ipykernel)",
   "language": "python",
   "name": "python3"
  },
  "language_info": {
   "codemirror_mode": {
    "name": "ipython",
    "version": 3
   },
   "file_extension": ".py",
   "mimetype": "text/x-python",
   "name": "python",
   "nbconvert_exporter": "python",
   "pygments_lexer": "ipython3",
   "version": "3.11.0"
  }
 },
 "nbformat": 4,
 "nbformat_minor": 5
}
